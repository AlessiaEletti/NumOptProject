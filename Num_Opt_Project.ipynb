{
  "nbformat": 4,
  "nbformat_minor": 0,
  "metadata": {
    "colab": {
      "name": "Num_Opt_Project.ipynb",
      "provenance": [],
      "collapsed_sections": []
    },
    "kernelspec": {
      "name": "python3",
      "display_name": "Python 3"
    }
  },
  "cells": [
    {
      "cell_type": "markdown",
      "metadata": {
        "id": "zME-rHeY0-5N",
        "colab_type": "text"
      },
      "source": [
        "# **Final Project: Support Vector Machines (SVMs)**"
      ]
    },
    {
      "cell_type": "code",
      "metadata": {
        "id": "cOp-F-0TSLtq",
        "colab_type": "code",
        "colab": {}
      },
      "source": [
        ""
      ],
      "execution_count": 0,
      "outputs": []
    },
    {
      "cell_type": "markdown",
      "metadata": {
        "id": "-7bmruD1Be3Q",
        "colab_type": "text"
      },
      "source": [
        "## SEQUENTIAL MINIMAL OPTIMISATION"
      ]
    },
    {
      "cell_type": "code",
      "metadata": {
        "id": "mQ1CM7kCHR1U",
        "colab_type": "code",
        "colab": {}
      },
      "source": [
        "class SVM():\n",
        "    \"\"\"\n",
        "        Simple implementation of a Support Vector Machine using the\n",
        "        Sequential Minimal Optimization (SMO) algorithm for training.\n",
        "    \"\"\"\n",
        "    def __init__(self, max_iter=10000, kernel_type='linear', C=1.0, epsilon=0.001):\n",
        "        self.kernels = {\n",
        "            'linear' : self.kernel_linear,\n",
        "            'quadratic' : self.kernel_quadratic\n",
        "        }\n",
        "        self.max_iter = max_iter\n",
        "        self.kernel_type = kernel_type\n",
        "        self.C = C\n",
        "        self.epsilon = epsilon\n",
        "    def fit(self, X, y):\n",
        "        # Initialization\n",
        "        n, d = X.shape[0], X.shape[1]\n",
        "        alpha = np.zeros((n))\n",
        "        kernel = self.kernels[self.kernel_type]\n",
        "        count = 0\n",
        "        while True:\n",
        "            count += 1\n",
        "            alpha_prev = np.copy(alpha)\n",
        "            for j in range(0, n):\n",
        "                i = self.get_rnd_int(0, n-1, j) # Get random int i~=j\n",
        "                x_i, x_j, y_i, y_j = X[i,:], X[j,:], y[i], y[j]\n",
        "                k_ij = kernel(x_i, x_i) + kernel(x_j, x_j) - 2 * kernel(x_i, x_j)\n",
        "                if k_ij == 0:\n",
        "                    continue\n",
        "                alpha_prime_j, alpha_prime_i = alpha[j], alpha[i]\n",
        "                (L, H) = self.compute_L_H(self.C, alpha_prime_j, alpha_prime_i, y_j, y_i)\n",
        "\n",
        "                # Compute model parameters\n",
        "                self.w = self.calc_w(alpha, y, X)\n",
        "                self.b = self.calc_b(X, y, self.w)\n",
        "\n",
        "                # Compute E_i, E_j\n",
        "                E_i = self.E(x_i, y_i, self.w, self.b)\n",
        "                E_j = self.E(x_j, y_j, self.w, self.b)\n",
        "\n",
        "                # Set new alpha values\n",
        "                alpha[j] = alpha_prime_j + float(y_j * (E_i - E_j))/k_ij\n",
        "                alpha[j] = max(alpha[j], L)\n",
        "                alpha[j] = min(alpha[j], H)\n",
        "\n",
        "                alpha[i] = alpha_prime_i + y_i*y_j * (alpha_prime_j - alpha[j])\n",
        "\n",
        "            # Check convergence\n",
        "            diff = np.linalg.norm(alpha - alpha_prev)\n",
        "            if diff < self.epsilon:\n",
        "                break\n",
        "\n",
        "            if count >= self.max_iter:\n",
        "                print(\"Iteration number exceeded the max of %d iterations\" % (self.max_iter))\n",
        "                return\n",
        "        # Compute final model parameters\n",
        "        self.b = self.calc_b(X, y, self.w)\n",
        "        if self.kernel_type == 'linear':\n",
        "            self.w = self.calc_w(alpha, y, X)\n",
        "        # Get support vectors\n",
        "        alpha_idx = np.where(alpha > 0)[0]\n",
        "        support_vectors = X[alpha_idx, :]\n",
        "        return support_vectors, count\n",
        "    def predict(self, X):\n",
        "        return self.h(X, self.w, self.b)\n",
        "    def calc_b(self, X, y, w):\n",
        "        b_tmp = y - np.dot(w.T, X.T)\n",
        "        return np.mean(b_tmp)\n",
        "    def calc_w(self, alpha, y, X):\n",
        "        return np.dot(X.T, np.multiply(alpha,y))\n",
        "    # Prediction\n",
        "    def h(self, X, w, b):\n",
        "        return np.sign(np.dot(w.T, X.T) + b).astype(int)\n",
        "    # Prediction error\n",
        "    def E(self, x_k, y_k, w, b):\n",
        "        return self.h(x_k, w, b) - y_k\n",
        "    def compute_L_H(self, C, alpha_prime_j, alpha_prime_i, y_j, y_i):\n",
        "        if(y_i != y_j):\n",
        "            return (max(0, alpha_prime_j - alpha_prime_i), min(C, C - alpha_prime_i + alpha_prime_j))\n",
        "        else:\n",
        "            return (max(0, alpha_prime_i + alpha_prime_j - C), min(C, alpha_prime_i + alpha_prime_j))\n",
        "    def get_rnd_int(self, a,b,z):\n",
        "        i = z\n",
        "        cnt=0\n",
        "        while i == z and cnt<1000:\n",
        "            i = rnd.randint(a,b)\n",
        "            cnt=cnt+1\n",
        "        return i\n",
        "    # Define kernels\n",
        "    def kernel_linear(self, x1, x2):\n",
        "        return np.dot(x1, x2.T)\n",
        "    def kernel_quadratic(self, x1, x2):\n",
        "        return (np.dot(x1, x2.T) ** 2)\n"
      ],
      "execution_count": 0,
      "outputs": []
    },
    {
      "cell_type": "code",
      "metadata": {
        "id": "hqsPGMptH56G",
        "colab_type": "code",
        "colab": {}
      },
      "source": [
        "X = df.iloc[:,0:-1]\n",
        "y = df.iloc[:,-1].astype(int)\n",
        "# model.fit(df.iloc[:,0:-1], df.iloc[:,-1].astype(int))"
      ],
      "execution_count": 0,
      "outputs": []
    },
    {
      "cell_type": "code",
      "metadata": {
        "id": "wRgPPS6zHuNo",
        "colab_type": "code",
        "outputId": "7facc785-2807-453f-9d0d-62489ed8f13a",
        "colab": {
          "base_uri": "https://localhost:8080/",
          "height": 34
        }
      },
      "source": [
        "model = SVM(max_iter=10000, kernel_type='quadratic', C=1.0, epsilon=0.001)\n",
        "self = model\n",
        "\n",
        "\n"
      ],
      "execution_count": 0,
      "outputs": [
        {
          "output_type": "execute_result",
          "data": {
            "text/plain": [
              "'quadratic'"
            ]
          },
          "metadata": {
            "tags": []
          },
          "execution_count": 74
        }
      ]
    },
    {
      "cell_type": "code",
      "metadata": {
        "id": "9S3az-PAH8Yw",
        "colab_type": "code",
        "colab": {}
      },
      "source": [
        "y_hat = model.predict(X_test)"
      ],
      "execution_count": 0,
      "outputs": []
    }
  ]
}